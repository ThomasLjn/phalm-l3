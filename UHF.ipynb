{
 "cells": [
  {
   "cell_type": "code",
   "execution_count": 1,
   "id": "46bdb6f5-9804-406f-9327-72d7d3a11507",
   "metadata": {},
   "outputs": [],
   "source": [
    "import psi4\n",
    "import numpy as np\n",
    "import matplotlib.pyplot as plt\n",
    "#paramètres psi4\n",
    "psi4.set_memory(\"500 MB\")\n",
    "numpy_memory = 2 #??\n",
    "psi4.set_options({'guess': 'core',\n",
    "                  'basis': 'cc-pvdz',\n",
    "                  'scf_type': 'pk',\n",
    "                  'e_convergence': 1e-8,\n",
    "                  'reference': 'uhf'})\n",
    "\n",
    "#paramètres pour nos tours de boucles HF\n",
    "MAX_ITER = 30\n",
    "E_conv = 1e-8\n",
    "Ha_to_eV = 27.2114\n",
    "power_precision = 1.e-16 #From PSI4 doc https://psicode.org/psi4manual/master/api/psi4.core.Matrix.html\n"
   ]
  },
  {
   "cell_type": "code",
   "execution_count": 2,
   "id": "a8be3056-bdb1-45e1-a4e3-b768cc9cb089",
   "metadata": {},
   "outputs": [],
   "source": [
    "mol = psi4.geometry(\n",
    "    \"\"\"\n",
    "    H 0 0 0\n",
    "    H 1 0 0 \n",
    "    \"\"\")"
   ]
  },
  {
   "cell_type": "code",
   "execution_count": 3,
   "id": "b5909997-cc15-4d99-855c-be5fb607af9c",
   "metadata": {},
   "outputs": [
    {
     "name": "stdout",
     "output_type": "stream",
     "text": [
      "10\n"
     ]
    }
   ],
   "source": [
    "#Définition des constantes du calcul\n",
    "wfn = psi4.core.Wavefunction.build(mol, psi4.core.get_global_option('basis'))\n",
    "mints = psi4.core.MintsHelper(wfn.basisset())\n",
    "\n",
    "nbs = wfn.nso()\n",
    "print(nbs)\n",
    "na = wfn.nalpha()\n",
    "nb = wfn.nbeta()\n",
    "nocc = max(na, nb)\n",
    "\n",
    "T = np.asarray(mints.ao_kinetic())\n",
    "V = np.asarray(mints.ao_potential())\n",
    "I = np.asarray(mints.ao_eri()) #Intégrales biélectroniques\n",
    "H = T + V\n",
    "\n",
    "X = mints.ao_overlap()\n",
    "X.power(-0.5, power_precision)\n",
    "X = np.asarray(X)\n",
    "E_nuc = mol.nuclear_repulsion_energy()"
   ]
  },
  {
   "cell_type": "code",
   "execution_count": 4,
   "id": "043f5a92-f728-4d2c-a792-332dbbea19ff",
   "metadata": {},
   "outputs": [],
   "source": [
    "def diag_F(F, n):\n",
    "    Fp = X.dot(F).dot(X)\n",
    "    e, Cp = np.linalg.eigh(Fp)\n",
    "    P = np.zeros((nbs, nbs))\n",
    "    C = np.dot(X, Cp)\n",
    "    for mu in range(nbs):\n",
    "        for nu in range(nbs):\n",
    "            P[mu, nu] = sum([C[mu, a]*C[nu, a] for a in range(n)])\n",
    "    return C,e,P\n",
    "\n",
    "def calc_F(Pa, Pb):\n",
    "    PT = Pa+Pb\n",
    "    Fa = np.zeros((nbs, nbs))\n",
    "    Fb = np.zeros((nbs, nbs))\n",
    "    for mu in range(nbs):\n",
    "        for nu in range(nbs):\n",
    "            st, sa, sb = 0, 0, 0\n",
    "            for lmbda in range(nbs):\n",
    "                for sigma in range(nbs):\n",
    "                    st += PT[lmbda, sigma] * I[mu, nu, sigma, lmbda]\n",
    "                    Iech = I[mu, lmbda, sigma, nu]\n",
    "                    sa += Pa[lmbda, sigma]*Iech\n",
    "                    sb += Pb[lmbda, sigma]*Iech\n",
    "            Fa[mu, nu] = H[mu, nu] + st - sa\n",
    "            Fb[mu, nu] = H[mu, nu] + st - sb\n",
    "    return Fa, Fb\n",
    "\n",
    "def calc_E(Pa, Pb, Fa, Fb):\n",
    "    Pt = Pa+Pb\n",
    "    E = 0\n",
    "    for mu in range(nbs):\n",
    "        for nu in range(nbs):\n",
    "            E += Pt[nu, mu]*H[mu, nu] + Pa[nu, mu] *Fa[mu, nu] + Pb[nu, mu]*Fb[mu, nu]\n",
    "    return E/2\n",
    "def hartree_to_ev(x):\n",
    "    return x*Ha_to_eV"
   ]
  },
  {
   "cell_type": "code",
   "execution_count": 5,
   "id": "1a2358cb-cbe2-4fb1-a590-290b79ae1762",
   "metadata": {},
   "outputs": [
    {
     "name": "stdout",
     "output_type": "stream",
     "text": [
      "Fin du tour n°0, E_elec = -43.07527231520755 eV\n",
      "Fin du tour n°1, E_elec = -44.13685261034509 eV\n",
      "Fin du tour n°2, E_elec = -44.30260779948073 eV\n",
      "Fin du tour n°3, E_elec = -44.330482912678086 eV\n",
      "Fin du tour n°4, E_elec = -44.33532564555694 eV\n",
      "Fin du tour n°5, E_elec = -44.33618598555637 eV\n",
      "Fin du tour n°6, E_elec = -44.336341706975674 eV\n",
      "Fin du tour n°7, E_elec = -44.33637033650008 eV\n",
      "Fin du tour n°8, E_elec = -44.336375667734444 eV\n",
      "Fin du tour n°9, E_elec = -44.33637667065329 eV\n",
      "Fin du tour n°10, E_elec = -44.33637686083172 eV\n",
      "Finalement, E = -29.936724110406086 eV\n",
      "\n",
      "Comparaison avec la référence de psi4 (en hartree) 1.65e-09 Ha\n"
     ]
    }
   ],
   "source": [
    "Fa = H #Première approx\n",
    "Fb = H\n",
    "Ca, ea, Pa = diag_F(Fa, na)\n",
    "#print(Ca)\n",
    "Cb, eb, Pb = diag_F(Fb, nb)\n",
    "Eold = 10\n",
    "Enew = calc_E(Pa, Pb, Fa, Fb)\n",
    "i = 0\n",
    "while (abs(Enew-Eold) > E_conv and i<MAX_ITER):\n",
    "    Fa, Fb = calc_F(Pa, Pb)\n",
    "    Ca, ea, Pa = diag_F(Fa, na)\n",
    "    Cb, eb, Pb = diag_F(Fb, nb)\n",
    "    Eold = Enew\n",
    "    Enew = calc_E(Pa, Pb, Fa, Fb)\n",
    "    print(\"Fin du tour n°{}, E_elec = {} eV\".format(i, hartree_to_ev(Enew)))\n",
    "    i += 1\n",
    "Enew += E_nuc\n",
    "print(\"Finalement, E = {} eV\".format(hartree_to_ev(Enew)))\n",
    "print()\n",
    "E_psi = psi4.energy('SCF')\n",
    "DeltaE = Enew - E_psi\n",
    "print(\"Comparaison avec la référence de psi4 (en hartree)\", np.format_float_scientific(DeltaE, precision = 3, exp_digits=2), \"Ha\") #faire une phrase"
   ]
  },
  {
   "cell_type": "markdown",
   "id": "22be8a5d-f15b-4bc1-b4c1-2305cb5bd160",
   "metadata": {},
   "source": [
    "# Etude de la dissociation de H2"
   ]
  },
  {
   "cell_type": "code",
   "execution_count": 6,
   "id": "5ed61ddd-ed01-40e0-b9b9-f7ba54dba72d",
   "metadata": {},
   "outputs": [],
   "source": [
    "h2 =\"\"\"\n",
    "    H 0 0 0\n",
    "    H 0 0 R\n",
    "    units angstrom\n",
    "    \"\"\""
   ]
  },
  {
   "cell_type": "code",
   "execution_count": 7,
   "id": "906f4a89-9f85-4431-9649-bb673b88c26e",
   "metadata": {},
   "outputs": [
    {
     "name": "stdout",
     "output_type": "stream",
     "text": [
      "Energie finale: E = -20.73629497118043\n"
     ]
    },
    {
     "data": {
      "text/plain": [
       "[<matplotlib.lines.Line2D at 0x2ce0345a350>]"
      ]
     },
     "execution_count": 7,
     "metadata": {},
     "output_type": "execute_result"
    },
    {
     "data": {
      "image/png": "[encoded data removed]",
      "text/plain": [
       "<Figure size 640x480 with 1 Axes>"
      ]
     },
     "metadata": {},
     "output_type": "display_data"
    }
   ],
   "source": [
    "dist = np.linspace(0.3, 5, 30)\n",
    "energies = []\n",
    "for d in dist:\n",
    "    # Build a new molecule at each separation\n",
    "    mol = psi4.geometry(h2.replace('R', str(d)))\n",
    "    \n",
    "    # Compute the Counterpoise-Corrected interaction energy\n",
    "    e = psi4.energy('SCF')\n",
    "    # Place in a reasonable unit, Wavenumbers in this case\n",
    "    # Append the value to our list\n",
    "    #print(\"Distance: {} angstrom, Energie: {} Ha\".format(d, hartree_to_ev(e)))\n",
    "    energies.append(hartree_to_ev(e))\n",
    "print(\"Energie finale: E = {}\".format(energies[-1]))\n",
    "plt.figure()\n",
    "plt.xlabel(\"Distance (angstrom)\")\n",
    "plt.ylabel(\"Energie (eV)\")\n",
    "plt.plot(dist, energies)"
   ]
  }
 ],
 "metadata": {
  "kernelspec": {
   "display_name": "my-env-kernel",
   "language": "python",
   "name": "my-env-kernel"
  },
  "language_info": {
   "codemirror_mode": {
    "name": "ipython",
    "version": 3
   },
   "file_extension": ".py",
   "mimetype": "text/x-python",
   "name": "python",
   "nbconvert_exporter": "python",
   "pygments_lexer": "ipython3",
   "version": "3.10.11"
  }
 },
 "nbformat": 4,
 "nbformat_minor": 5
}
